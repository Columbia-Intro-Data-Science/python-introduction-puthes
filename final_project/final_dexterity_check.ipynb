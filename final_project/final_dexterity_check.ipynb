{
 "cells": [
  {
   "cell_type": "code",
   "execution_count": 1,
   "metadata": {},
   "outputs": [
    {
     "name": "stderr",
     "output_type": "stream",
     "text": [
      "C:\\Users\\Saumya\\Anaconda3\\lib\\site-packages\\sklearn\\cross_validation.py:41: DeprecationWarning: This module was deprecated in version 0.18 in favor of the model_selection module into which all the refactored classes and functions are moved. Also note that the interface of the new CV iterators are different from that of this module. This module will be removed in 0.20.\n",
      "  \"This module will be removed in 0.20.\", DeprecationWarning)\n"
     ]
    }
   ],
   "source": [
    "\n",
    "    \n",
    "import sys\n",
    "import os\n",
    "import scipy\n",
    "import math\n",
    "import random\n",
    "import numpy\n",
    "import string\n",
    "from sklearn import datasets\n",
    "import subprocess\n",
    "import pandas as pd\n",
    "import string\n",
    "import pydotplus \n",
    "import pydot\n",
    "import graphviz\n",
    "from sklearn.externals.six import StringIO\n",
    "from sklearn.tree import export_graphviz\n",
    "import matplotlib.cm as cm # \n",
    "from skimage.color import rgb2gray\n",
    "from sklearn.metrics import confusion_matrix\n",
    "from sklearn.cross_validation import train_test_split\n",
    "from sklearn.neighbors import KNeighborsClassifier\n",
    "from sklearn.cluster import KMeans\n",
    "from sklearn.metrics import classification_report\n",
    "from scipy.misc import imread\n",
    "from matplotlib import pyplot as plt\n",
    "from sklearn.neighbors import KNeighborsClassifier\n",
    "from sklearn.cross_validation import train_test_split\n",
    "#from scipy import misc\n",
    "from sklearn.model_selection import GridSearchCV\n",
    "from pylab import *\n",
    "#from skimage import img_as_float\n",
    "from PIL import Image\n",
    "import PIL.Image\n",
    "import seaborn as sns\n",
    "\n",
    "from sklearn.linear_model import LogisticRegression\n",
    "from sklearn.linear_model import Lasso\n",
    "from sklearn.linear_model import Ridge\n",
    "from sklearn.model_selection import train_test_split\n",
    "from sklearn.utils import shuffle\n",
    "from sklearn.metrics import roc_curve, auc\n",
    "import random\n",
    "import json\n",
    "   "
   ]
  },
  {
   "cell_type": "code",
   "execution_count": 2,
   "metadata": {},
   "outputs": [
    {
     "name": "stdout",
     "output_type": "stream",
     "text": [
      "-6.047172219234895e-18\n",
      "1.0\n",
      "end\n",
      "-9.947598300641403e-18\n",
      "1.0\n",
      "-6.047172219234895e-18\n",
      "1.0\n"
     ]
    }
   ],
   "source": [
    "n=46\n",
    "z=100\n",
    "z1=200\n",
    "prod=z*z1\n",
    "data = np.zeros((z1,z))\n",
    "for s in range(0,n+1):   #last sample plus 1\n",
    "    im =Image.open(\"draw/%d.png\"%s)\n",
    "    im = im.resize((z, z1), Image.ANTIALIAS)\n",
    "    im = im.convert('RGB')\n",
    "    \n",
    "    im=numpy.array(im)\n",
    "    \n",
    "    grayscale = numpy.zeros((z,z1))\n",
    "  \n",
    "    grayscale = np.dot(im, [ 0.2989,  0.5870, 0.1140])   \n",
    "    grayscale = (grayscale - np.mean(grayscale))/np.std(grayscale)   #standardiz\n",
    "    data = np.dstack((data,grayscale))\n",
    "    \n",
    "\n",
    "y = [0,1,1,1,1,2,2,2,2,1,2,2,2,3,3,3,4,4,4,4,3,3,3,1,1,1,1,3,2,3,2,3,2,4,4,1,1,2,2,4,4,2,2,3,4,3,2]\n",
    "\n",
    "# 0 is empty\n",
    "\n",
    "# 1 is circle\n",
    "\n",
    "#2 is triangle\n",
    "\n",
    "#3 heart\n",
    "\n",
    "#4 is star\n",
    "\n",
    "\n",
    "y=np.array((y))\n",
    "data=data[:,:,1:n+2]  #last sample plus 2\n",
    "data2=reshape(data[:,:,0], prod, 1) #\n",
    "\n",
    "for i in range(1,n+1):  #last sample plus 1\n",
    "    data2=np.vstack((data2,reshape(data[:,:,i], prod, 1)))\n",
    "\n",
    "data3=data2[0:n+2,:]  #last sample plus 2\n",
    "\n",
    "data3 = (data3 - np.mean(data3))/np.std(data3)   #standardize\n",
    "print (numpy.mean(data3))\n",
    "print (numpy.std(data3))\n",
    "\n",
    "print (\"end\")\n",
    "################\n",
    "#########################################################################\n",
    "m=4\n",
    "testdata = np.zeros((z1,z))\n",
    "for s in range(1,m+1):   #last sample plus 1\n",
    "    im =Image.open(\"draw/test%d.jpg\"%s)\n",
    "    im = im.resize((z, z1), Image.ANTIALIAS)\n",
    "    im = im.convert('RGB')\n",
    "\n",
    "    cc = np.array(im)\n",
    "    grayscale = np.dot(cc, [0.2126, 0.7152, 0.0722])  \n",
    "    grayscale = (grayscale - np.mean(grayscale))/np.std(grayscale)   #standardiz\n",
    "    testdata = np.dstack((testdata,grayscale))\n",
    "    \n",
    "\n",
    "testdata=testdata[:,:,1:m+2]  #last sample plus 2 \n",
    "testdata2=reshape(testdata[:,:,0], prod, 1)\n",
    "\n",
    "for i in range(0,m): \n",
    "    #print (i)\n",
    "    testdata2=np.vstack((testdata2,reshape(testdata[:,:,i], prod, 1)))\n",
    "\n",
    "testdata3=testdata2[1:m+1,:]  #last sample plus 1\n",
    "\n",
    "\n",
    "\n",
    "testset=testdata3\n",
    "testset = (testset - np.mean(testset))/np.std(testset)   #standardize\n",
    "print (numpy.mean(testset))\n",
    "print (numpy.std(testset))\n",
    "print (numpy.mean(data3))\n",
    "print (numpy.std(data3))"
   ]
  },
  {
   "cell_type": "code",
   "execution_count": 3,
   "metadata": {},
   "outputs": [
    {
     "name": "stderr",
     "output_type": "stream",
     "text": [
      "C:\\Users\\Saumya\\Anaconda3\\lib\\site-packages\\sklearn\\model_selection\\_split.py:605: Warning: The least populated class in y has only 1 members, which is too few. The minimum number of members in any class cannot be less than n_splits=5.\n",
      "  % (min_groups, self.n_splits)), Warning)\n"
     ]
    },
    {
     "name": "stdout",
     "output_type": "stream",
     "text": [
      "{'n_neighbors': 1}\n",
      "4\n",
      "star\n",
      "2\n",
      "triangle\n",
      "3\n",
      "heart\n",
      "1\n",
      "circle\n"
     ]
    },
    {
     "data": {
      "text/plain": [
       "<matplotlib.figure.Figure at 0x4bb1b12940>"
      ]
     },
     "metadata": {},
     "output_type": "display_data"
    },
    {
     "data": {
      "image/png": "[encoded data removed]",
      "text/plain": [
       "<matplotlib.figure.Figure at 0x4bb1b123c8>"
      ]
     },
     "metadata": {},
     "output_type": "display_data"
    }
   ],
   "source": [
    "#knn\n",
    "\n",
    "X = data3\n",
    "X_train, X_test, y_train, y_test = train_test_split(X, y, test_size=0.2, random_state=42)\n",
    "\n",
    " \n",
    "k_range = list(range(1, 7))\n",
    "param_grid = dict(n_neighbors=k_range)\n",
    "                \n",
    "knn = KNeighborsClassifier()\n",
    "grid = GridSearchCV(knn, param_grid, cv=5, scoring='accuracy')    # find the best k using grid search with cv = 5\n",
    "grid.fit(X_train,y_train)\n",
    "\n",
    "print(grid.best_params_)\n",
    "\n",
    "k = (grid.best_params_['n_neighbors'])\n",
    "       \n",
    "model = KNeighborsClassifier(n_neighbors=k)\n",
    "model.fit(X_train,y_train)\n",
    "prediction1 = model.predict(X_test)\n",
    "prediction = model.predict(testset)\n",
    "cm = confusion_matrix(y_test, prediction1)\n",
    "\n",
    "for i in range(0,len(prediction)):\n",
    "    ss=prediction[i]\n",
    "    print (ss)\n",
    "    if ss == 0:\n",
    "        print('empty')\n",
    "    \n",
    "    if ss == 1:\n",
    "        print('circle')\n",
    "    \n",
    "    if ss == 2:\n",
    "        print('triangle')\n",
    "    \n",
    "    if ss == 3:\n",
    "        print('heart')\n",
    "        \n",
    "    if ss == 4:\n",
    "        print ('star')    \n",
    " \n",
    "\n",
    "\n",
    "\n",
    "fig = plt.figure()\n",
    "plt.matshow(cm)\n",
    "plt.title('Confusion Matrix KNN ')\n",
    "plt.colorbar()\n",
    "plt.ylabel('True Label')\n",
    "plt.xlabel('Predicated Label')\n",
    "plt.savefig('confusion_matrix_knn.png')\n",
    "plt.show()"
   ]
  },
  {
   "cell_type": "code",
   "execution_count": 4,
   "metadata": {},
   "outputs": [
    {
     "name": "stderr",
     "output_type": "stream",
     "text": [
      "C:\\Users\\Saumya\\Anaconda3\\lib\\site-packages\\sklearn\\model_selection\\_split.py:605: Warning: The least populated class in y has only 1 members, which is too few. The minimum number of members in any class cannot be less than n_splits=5.\n",
      "  % (min_groups, self.n_splits)), Warning)\n",
      "C:\\Users\\Saumya\\Anaconda3\\lib\\site-packages\\sklearn\\model_selection\\_search.py:761: DeprecationWarning: The grid_scores_ attribute was deprecated in version 0.18 in favor of the more elaborate cv_results_ attribute. The grid_scores_ attribute will not be available from 0.20\n",
      "  DeprecationWarning)\n"
     ]
    },
    {
     "name": "stdout",
     "output_type": "stream",
     "text": [
      "0.5405405405405406\n",
      "{'C': 0.004893900918477494}\n",
      "[4 2 3 2]\n",
      "[[0 0 0 0 0]\n",
      " [1 0 2 2 0]\n",
      " [0 0 1 0 0]\n",
      " [0 0 0 2 0]\n",
      " [0 1 1 0 0]]\n"
     ]
    },
    {
     "data": {
      "text/plain": [
       "<matplotlib.figure.Figure at 0x4bb1c1dda0>"
      ]
     },
     "metadata": {},
     "output_type": "display_data"
    },
    {
     "data": {
      "image/png": "[encoded data removed]",
      "text/plain": [
       "<matplotlib.figure.Figure at 0x4bb1c1deb8>"
      ]
     },
     "metadata": {},
     "output_type": "display_data"
    }
   ],
   "source": [
    "#Logistic Regression\n",
    "X = data3\n",
    "X_train, X_test, y_train, y_test = train_test_split(X, y, test_size=0.2, random_state=42)\n",
    "\n",
    "\n",
    "\n",
    "\n",
    "k_range = list(numpy.logspace(-5, 1, 30))\n",
    "param_grid = dict(C=k_range)\n",
    "                \n",
    "clf = LogisticRegression(penalty='l2')\n",
    "grid = GridSearchCV(clf, param_grid, cv=5, scoring='accuracy')    # find the best k using grid search with cv = 5\n",
    "grid.fit(X_train,y_train)\n",
    "grid.grid_scores_\n",
    "\n",
    "print(grid.best_score_)\n",
    "print(grid.best_params_)\n",
    "\n",
    "alpha_best = grid.best_params_['C']\n",
    "clf = LogisticRegression(penalty='l2', C=alpha_best)  # c = 1.0 default\n",
    "clf.fit(X_train,y_train)\n",
    "coef=clf.coef_\n",
    "logisticregression_pred = clf.predict(testset)\n",
    "print (logisticregression_pred)\n",
    "\n",
    "y_pred = clf.predict(X_test)\n",
    "cm = confusion_matrix(y_test, y_pred)\n",
    "\n",
    "print (cm)\n",
    "fig = plt.figure()\n",
    "plt.matshow(cm)\n",
    "plt.title('Confusion Matrix Logistic regression')\n",
    "plt.colorbar()\n",
    "plt.ylabel('True Label')\n",
    "plt.xlabel('Predicated Label')\n",
    "plt.savefig('confusion_matrix_logistic_regression.png')\n",
    "plt.show()\n"
   ]
  },
  {
   "cell_type": "code",
   "execution_count": 5,
   "metadata": {},
   "outputs": [
    {
     "name": "stderr",
     "output_type": "stream",
     "text": [
      "C:\\Users\\Saumya\\Anaconda3\\lib\\site-packages\\sklearn\\model_selection\\_split.py:605: Warning: The least populated class in y has only 1 members, which is too few. The minimum number of members in any class cannot be less than n_splits=5.\n",
      "  % (min_groups, self.n_splits)), Warning)\n",
      "C:\\Users\\Saumya\\Anaconda3\\lib\\site-packages\\sklearn\\model_selection\\_search.py:761: DeprecationWarning: The grid_scores_ attribute was deprecated in version 0.18 in favor of the more elaborate cv_results_ attribute. The grid_scores_ attribute will not be available from 0.20\n",
      "  DeprecationWarning)\n"
     ]
    },
    {
     "name": "stdout",
     "output_type": "stream",
     "text": [
      "0.5675675675675675\n",
      "{'C': 0.001}\n",
      "[4 2 3 2]\n",
      "[[0 0 0 0 0]\n",
      " [1 0 2 2 0]\n",
      " [0 0 1 0 0]\n",
      " [0 0 0 2 0]\n",
      " [0 1 1 0 0]]\n"
     ]
    },
    {
     "data": {
      "text/plain": [
       "<matplotlib.figure.Figure at 0x4bb1a29fd0>"
      ]
     },
     "metadata": {},
     "output_type": "display_data"
    },
    {
     "data": {
      "image/png": "[encoded data removed]",
      "text/plain": [
       "<matplotlib.figure.Figure at 0x4bb1a29320>"
      ]
     },
     "metadata": {},
     "output_type": "display_data"
    }
   ],
   "source": [
    "#SVM\n",
    "\n",
    "X=data3\n",
    "from sklearn import svm\n",
    "from sklearn.svm import LinearSVC\n",
    "from sklearn.svm import SVR\n",
    "\n",
    "k_range = list(numpy.logspace(-3, 0, 30))\n",
    "param_grid = dict(C=k_range)\n",
    "                \n",
    "clf = LinearSVC(penalty='l2')\n",
    "grid = GridSearchCV(clf, param_grid, cv=5, scoring='accuracy')    # find the best k using grid search with cv = 5\n",
    "grid.fit(X_train,y_train)\n",
    "grid.grid_scores_\n",
    "\n",
    "print(grid.best_score_)\n",
    "print(grid.best_params_)\n",
    "\n",
    "\n",
    "\n",
    "clf = LinearSVC(C=grid.best_params_['C'],random_state=0,penalty='l2')\n",
    "\n",
    "#print (clf)\n",
    "clf.fit(X_train,y_train)\n",
    "r = clf.predict(testset)\n",
    "print (r)\n",
    "\n",
    "\n",
    "y_pred = clf.predict(X_test)\n",
    "cm = confusion_matrix(y_test, y_pred)\n",
    "\n",
    "print (cm)\n",
    "fig = plt.figure()\n",
    "plt.matshow(cm)\n",
    "plt.title('Confusion Matrix Linear SVM')\n",
    "plt.colorbar()\n",
    "plt.ylabel('True Label')\n",
    "plt.xlabel('Predicated Label')\n",
    "plt.savefig('confusion_matrix_svm.png')\n",
    "plt.show()"
   ]
  },
  {
   "cell_type": "code",
   "execution_count": 6,
   "metadata": {},
   "outputs": [
    {
     "name": "stdout",
     "output_type": "stream",
     "text": [
      "(47, 20000)\n",
      "(47, 2)\n"
     ]
    },
    {
     "data": {
      "image/png": "[encoded data removed]",
      "text/plain": [
       "<matplotlib.figure.Figure at 0x4bb1e3b6a0>"
      ]
     },
     "metadata": {},
     "output_type": "display_data"
    },
    {
     "data": {
      "image/png": "[encoded data removed]",
      "text/plain": [
       "<matplotlib.figure.Figure at 0x4bb1eeaef0>"
      ]
     },
     "metadata": {},
     "output_type": "display_data"
    },
    {
     "name": "stdout",
     "output_type": "stream",
     "text": [
      "(47, 20000)\n",
      "22.509790114012667\n"
     ]
    },
    {
     "data": {
      "image/png": "[encoded data removed]",
      "text/plain": [
       "<matplotlib.figure.Figure at 0x4bb1eeae80>"
      ]
     },
     "metadata": {},
     "output_type": "display_data"
    }
   ],
   "source": [
    "# PCA\n",
    "\n",
    "X = data3\n",
    "from sklearn.decomposition import PCA\n",
    "\n",
    "pca = PCA(n_components=2)\n",
    "print (X.shape)\n",
    "new=pca.fit(X)\n",
    "X_pca = pca.transform(X)\n",
    "print (X_pca.shape)\n",
    "\n",
    "colors = ['black', 'blue', 'cyan', 'red','green']\n",
    "for i in range(len(y)):\n",
    "    if y[i] == 0:\n",
    "        nothing = plt.scatter(X_pca[i, 0], X_pca[i, 1],c=colors[0])\n",
    "    if y[i] == 1:\n",
    "        circle = plt.scatter(X_pca[i, 0], X_pca[i, 1],c=colors[1]) \n",
    "    if y[i] == 2:\n",
    "        triangle= plt.scatter(X_pca[i, 0], X_pca[i, 1],c=colors[2])  \n",
    "    if y[i] == 3:\n",
    "        heart = plt.scatter(X_pca[i, 0], X_pca[i, 1],c=colors[3])  \n",
    "    if y[i] == 4:\n",
    "        star= plt.scatter(X_pca[i, 0], X_pca[i, 1],c=colors[4])      \n",
    "\n",
    "\n",
    "plt.xlabel('component 1')\n",
    "plt.ylabel('component 2')\n",
    "plt.legend((nothing, circle, triangle, heart, star), ('nothing','circle','triangle','heart','star'), scatterpoints=1,\n",
    "           loc='upper left',\n",
    "           ncol=3,\n",
    "           fontsize=8)\n",
    "#plt.colorbar();\n",
    "#xlim((-17.5, 1)) \n",
    "#ylim((-15, 15)) \n",
    "plt.savefig(\"pca_result.jpg\")\n",
    "plt.show()\n",
    "\n",
    "# pca versus variance\n",
    "\n",
    "pca = PCA()\n",
    "\n",
    "\n",
    "pca.fit(X)\n",
    "\n",
    "plt.figure(1, figsize=(10, 10))\n",
    "\n",
    "plt.plot(pca.explained_variance_ratio_, linewidth=2)\n",
    "plt.axis('tight')\n",
    "plt.xlabel('Number of Components')\n",
    "plt.ylabel('Explained Variance')\n",
    "plt.savefig(\"variance.jpg\")\n",
    "plt.show()\n",
    "\n",
    "# new PCA\n",
    "\n",
    "X = data3\n",
    "\n",
    "pca = PCA(n_components=15)\n",
    "print (X.shape)\n",
    "new=pca.fit(X)\n",
    "X_pca = pca.transform(X)\n",
    "testset_pca = pca.transform(testset)\n",
    "print (numpy.std(X_pca))\n",
    "#correlation matrix after pca \n",
    "corr_matrix = numpy.corrcoef(X_pca)\n",
    "fig = plt.figure(figsize=(8,8))\n",
    "ax = fig.add_subplot(111)\n",
    "cax = ax.matshow(corr_matrix)\n",
    "fig.colorbar(cax)\n",
    "plt.title(\"PCA Correlation Matrix of First 15 Components\")\n",
    "plt.savefig(\"correlation_PCA.jpg\")\n",
    "plt.show()"
   ]
  },
  {
   "cell_type": "code",
   "execution_count": 7,
   "metadata": {},
   "outputs": [
    {
     "name": "stderr",
     "output_type": "stream",
     "text": [
      "C:\\Users\\Saumya\\Anaconda3\\lib\\site-packages\\sklearn\\model_selection\\_split.py:605: Warning: The least populated class in y has only 1 members, which is too few. The minimum number of members in any class cannot be less than n_splits=5.\n",
      "  % (min_groups, self.n_splits)), Warning)\n",
      "C:\\Users\\Saumya\\Anaconda3\\lib\\site-packages\\sklearn\\model_selection\\_search.py:761: DeprecationWarning: The grid_scores_ attribute was deprecated in version 0.18 in favor of the more elaborate cv_results_ attribute. The grid_scores_ attribute will not be available from 0.20\n",
      "  DeprecationWarning)\n"
     ]
    },
    {
     "name": "stdout",
     "output_type": "stream",
     "text": [
      "0.5675675675675675\n",
      "{'C': 0.02807216203941177}\n",
      "[4 2 2 3]\n",
      "[[0 1 4 0]\n",
      " [0 1 0 0]\n",
      " [0 0 2 0]\n",
      " [0 0 0 2]]\n"
     ]
    },
    {
     "data": {
      "text/plain": [
       "<matplotlib.figure.Figure at 0x4bb1e11f60>"
      ]
     },
     "metadata": {},
     "output_type": "display_data"
    },
    {
     "data": {
      "image/png": "[encoded data removed]",
      "text/plain": [
       "<matplotlib.figure.Figure at 0x4bb1e11e48>"
      ]
     },
     "metadata": {},
     "output_type": "display_data"
    }
   ],
   "source": [
    "#LINEAR SVC AFTER PCA\n",
    "\n",
    "\n",
    "X=X_pca\n",
    "from sklearn import svm\n",
    "from sklearn.svm import LinearSVC\n",
    "from sklearn.svm import SVR\n",
    "\n",
    "\n",
    "\n",
    "X_train, X_test, y_train, y_test = train_test_split(X, y, test_size=0.2, random_state=42)\n",
    "\n",
    "k_range = list(numpy.logspace(-3, 0, 30))\n",
    "param_grid = dict(C=k_range)\n",
    "                \n",
    "clf = LinearSVC(penalty='l2')\n",
    "grid = GridSearchCV(clf, param_grid, cv=5, scoring='accuracy')    # find the best k using grid search with cv = 5\n",
    "grid.fit(X_train,y_train)\n",
    "grid.grid_scores_\n",
    "\n",
    "print(grid.best_score_)\n",
    "print(grid.best_params_)\n",
    "\n",
    "\n",
    "\n",
    "clf = LinearSVC(C=grid.best_params_['C'],random_state=0,penalty='l2')\n",
    " \n",
    "\n",
    "#print (clf)\n",
    "clf.fit(X_train,y_train)\n",
    "r = clf.predict(testset_pca)\n",
    "print (r)\n",
    "\n",
    "\n",
    "y_pred = clf.predict(X_test)\n",
    "cm = confusion_matrix(y_test, y_pred)\n",
    "\n",
    "print (cm)\n",
    "fig = plt.figure()\n",
    "plt.matshow(cm)\n",
    "plt.title('Confusion Matrix SVM PCA')\n",
    "plt.colorbar()\n",
    "plt.ylabel('True Label')\n",
    "plt.xlabel('Predicated Label')\n",
    "plt.savefig('confusion_matrix_pca_Svm.png')\n",
    "plt.show()"
   ]
  },
  {
   "cell_type": "code",
   "execution_count": null,
   "metadata": {},
   "outputs": [],
   "source": []
  }
 ],
 "metadata": {
  "kernelspec": {
   "display_name": "Python 3",
   "language": "python",
   "name": "python3"
  },
  "language_info": {
   "codemirror_mode": {
    "name": "ipython",
    "version": 3
   },
   "file_extension": ".py",
   "mimetype": "text/x-python",
   "name": "python",
   "nbconvert_exporter": "python",
   "pygments_lexer": "ipython3",
   "version": "3.6.4"
  }
 },
 "nbformat": 4,
 "nbformat_minor": 2
}
