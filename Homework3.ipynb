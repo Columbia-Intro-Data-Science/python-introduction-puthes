{
 "cells": [
  {
   "cell_type": "code",
   "execution_count": 106,
   "metadata": {},
   "outputs": [],
   "source": [
    "import numpy\n",
    "import scipy\n",
    "from mpl_toolkits.mplot3d import Axes3D\n",
    "from __future__ import print_function\n",
    "import os\n",
    "import subprocess\n",
    "import pandas as pd\n",
    "import string\n",
    "import pydotplus \n",
    "import pydot\n",
    "import graphviz\n",
    "#import pylab as plt\n",
    "import matplotlib.pyplot as plt\n",
    "from matplotlib import pyplot\n",
    "from IPython.display import Image  \n",
    "from sklearn import datasets\n",
    "from sklearn.externals.six import StringIO\n",
    "from sklearn.tree import export_graphviz\n",
    "import seaborn as sns\n",
    "from sklearn.tree import DecisionTreeRegressor, export_graphviz, DecisionTreeClassifier\n",
    "from sklearn.linear_model import LinearRegression\n",
    "from sklearn.cross_validation import KFold\n",
    "from sklearn.linear_model import LogisticRegression\n",
    "from sklearn.linear_model import Lasso\n",
    "from sklearn.linear_model import Ridge\n",
    "from sklearn.model_selection import train_test_split\n",
    "from sklearn.utils import shuffle\n",
    "from sklearn.metrics import roc_curve, auc\n",
    "import numpy.random as nprnd\n",
    "import random\n",
    "import json\n",
    "%matplotlib inline"
   ]
  },
  {
   "cell_type": "markdown",
   "metadata": {},
   "source": [
    "Please do one of the following.\n",
    "\n",
    "\n",
    "# Part I: Classification"
   ]
  },
  {
   "cell_type": "markdown",
   "metadata": {},
   "source": [
    "1) Load in the dataset `https://d1pqsl2386xqi9.cloudfront.net/notebooks/Default.csv` into a pandas dataframe"
   ]
  },
  {
   "cell_type": "markdown",
   "metadata": {},
   "source": [
    "2) Convert `default` and `student` to categorical variables."
   ]
  },
  {
   "cell_type": "markdown",
   "metadata": {},
   "source": [
    "3) Make boxplots of all of the variables and a scatter plot of of (balance,income) with the color\n",
    "of the outcome of `default` labeled red if yes and blue if no. "
   ]
  },
  {
   "cell_type": "markdown",
   "metadata": {},
   "source": [
    "4) Train a model to predict if a student defaults on their loan or not using LogisticRegression based soley\n",
    "on the `balance` and `income` variables. Plot the decision boundary in the scatter plot you made in 3) and compute the AUC ROC."
   ]
  },
  {
   "cell_type": "markdown",
   "metadata": {},
   "source": [
    "5) Repeat 4) but with the student variable included. Optimize using Ridge regression and plot the ranking\n",
    "of coefficients.  How does performance improve with the added variable?"
   ]
  },
  {
   "cell_type": "markdown",
   "metadata": {},
   "source": [
    "6) Using cross validation, check that the model you built in 5) is robust (generalizes to other random folds of the dataset)."
   ]
  },
  {
   "cell_type": "markdown",
   "metadata": {},
   "source": [
    "7) Train a Decision Tree classifier with maximum depth 5 and plot the decision tree. How does performance compare?"
   ]
  },
  {
   "cell_type": "markdown",
   "metadata": {},
   "source": [
    "8) Find the optimal decision tree depth and compute the AUC ROC. "
   ]
  },
  {
   "cell_type": "markdown",
   "metadata": {},
   "source": [
    "### Parts 1-3 :"
   ]
  },
  {
   "cell_type": "code",
   "execution_count": 107,
   "metadata": {},
   "outputs": [
    {
     "data": {
      "text/html": [
       "<div>\n",
       "<style scoped>\n",
       "    .dataframe tbody tr th:only-of-type {\n",
       "        vertical-align: middle;\n",
       "    }\n",
       "\n",
       "    .dataframe tbody tr th {\n",
       "        vertical-align: top;\n",
       "    }\n",
       "\n",
       "    .dataframe thead th {\n",
       "        text-align: right;\n",
       "    }\n",
       "</style>\n",
       "<table border=\"1\" class=\"dataframe\">\n",
       "  <thead>\n",
       "    <tr style=\"text-align: right;\">\n",
       "      <th></th>\n",
       "      <th>default</th>\n",
       "      <th>student</th>\n",
       "      <th>balance</th>\n",
       "      <th>income</th>\n",
       "    </tr>\n",
       "  </thead>\n",
       "  <tbody>\n",
       "    <tr>\n",
       "      <th>1</th>\n",
       "      <td>No</td>\n",
       "      <td>No</td>\n",
       "      <td>729.526495</td>\n",
       "      <td>44361.625074</td>\n",
       "    </tr>\n",
       "    <tr>\n",
       "      <th>2</th>\n",
       "      <td>No</td>\n",
       "      <td>Yes</td>\n",
       "      <td>817.180407</td>\n",
       "      <td>12106.134700</td>\n",
       "    </tr>\n",
       "    <tr>\n",
       "      <th>3</th>\n",
       "      <td>No</td>\n",
       "      <td>No</td>\n",
       "      <td>1073.549164</td>\n",
       "      <td>31767.138947</td>\n",
       "    </tr>\n",
       "    <tr>\n",
       "      <th>4</th>\n",
       "      <td>No</td>\n",
       "      <td>No</td>\n",
       "      <td>529.250605</td>\n",
       "      <td>35704.493935</td>\n",
       "    </tr>\n",
       "    <tr>\n",
       "      <th>5</th>\n",
       "      <td>No</td>\n",
       "      <td>No</td>\n",
       "      <td>785.655883</td>\n",
       "      <td>38463.495879</td>\n",
       "    </tr>\n",
       "  </tbody>\n",
       "</table>\n",
       "</div>"
      ],
      "text/plain": [
       "  default student      balance        income\n",
       "1      No      No   729.526495  44361.625074\n",
       "2      No     Yes   817.180407  12106.134700\n",
       "3      No      No  1073.549164  31767.138947\n",
       "4      No      No   529.250605  35704.493935\n",
       "5      No      No   785.655883  38463.495879"
      ]
     },
     "execution_count": 107,
     "metadata": {},
     "output_type": "execute_result"
    }
   ],
   "source": [
    "\n",
    "df = pd.read_csv('https://d1pqsl2386xqi9.cloudfront.net/notebooks/Default.csv ', index_col=0)\n",
    "y1=df[['default']]\n",
    "y2=df[['student']]\n",
    "\n",
    "y3=df[['income']]\n",
    "y4=df[['balance']]\n",
    "\n",
    "\n",
    "df.head()\n"
   ]
  },
  {
   "cell_type": "code",
   "execution_count": 108,
   "metadata": {},
   "outputs": [
    {
     "data": {
      "image/png": "[encoded data removed]",
      "text/plain": [
       "<matplotlib.figure.Figure at 0x3ae5aa7c50>"
      ]
     },
     "metadata": {},
     "output_type": "display_data"
    }
   ],
   "source": [
    "sns.set_style(\"whitegrid\")\n",
    "ax=sns.boxplot(x=df[\"default\"],y=df[\"balance\"],data=df,order=[\"Yes\", \"No\"])\n"
   ]
  },
  {
   "cell_type": "code",
   "execution_count": 109,
   "metadata": {},
   "outputs": [
    {
     "data": {
      "image/png": "[encoded data removed]",
      "text/plain": [
       "<matplotlib.figure.Figure at 0x3ae9ed2208>"
      ]
     },
     "metadata": {},
     "output_type": "display_data"
    }
   ],
   "source": [
    "ax=sns.boxplot(x=df[\"student\"],y=df[\"balance\"],data=df,order=[\"Yes\", \"No\"])"
   ]
  },
  {
   "cell_type": "code",
   "execution_count": null,
   "metadata": {},
   "outputs": [
    {
     "data": {
      "image/png": "[encoded data removed]",
      "text/plain": [
       "<matplotlib.figure.Figure at 0x3ae9f3c0f0>"
      ]
     },
     "metadata": {},
     "output_type": "display_data"
    }
   ],
   "source": [
    "ax=sns.boxplot(x=df[\"default\"],y=df[\"income\"],data=df,order=[\"Yes\", \"No\"])"
   ]
  },
  {
   "cell_type": "code",
   "execution_count": null,
   "metadata": {},
   "outputs": [],
   "source": [
    "ax=sns.boxplot(x=df[\"student\"],y=df[\"income\"],data=df,order=[\"Yes\", \"No\"])"
   ]
  },
  {
   "cell_type": "code",
   "execution_count": null,
   "metadata": {},
   "outputs": [],
   "source": [
    "# Convert default and student to categorical\n",
    "df_default=pd.get_dummies(df['default'])\n",
    "df_student=pd.get_dummies(df['student'])\n",
    "df_balance=pd.get_dummies(df['balance'])\n",
    "df_income=pd.get_dummies(df['income'])\n",
    "df_updated = pd.concat([df_default,df_student],axis=1)\n",
    "df_updated=df_updated.drop(['?'],1)\n"
   ]
  },
  {
   "cell_type": "code",
   "execution_count": null,
   "metadata": {},
   "outputs": [],
   "source": [
    "y1=df[['default']]\n",
    "df.head()"
   ]
  },
  {
   "cell_type": "code",
   "execution_count": null,
   "metadata": {},
   "outputs": [],
   "source": [
    "# (3 \n",
    "\n",
    "y1=df[['default']]\n",
    "default_color=[]\n",
    "for i in range(0,len(y1)):\n",
    "    if y1.iloc[i,0]==\"Yes\":\n",
    "        default_color.append(\"red\")\n",
    "    else:\n",
    "        default_color.append(\"blue\")\n",
    "      \n",
    "    \n",
    "plt.figure(figsize=(10,7))        \n",
    "plt.scatter(df.balance,df.income, c=default_color,label = 'Default=No')\n",
    "plt.title(\"Balance Vs. Income as a function of Default status\")\n",
    "plt.xlabel(\"balance\")\n",
    "plt.ylabel(\"income\")\n",
    "plt.legend()\n",
    "\n",
    "plt.show()\n",
    "\n"
   ]
  },
  {
   "cell_type": "markdown",
   "metadata": {},
   "source": [
    "### Part 4:"
   ]
  },
  {
   "cell_type": "code",
   "execution_count": null,
   "metadata": {},
   "outputs": [],
   "source": [
    "\n",
    "# Split the data into training/testing sets\n",
    "\n",
    "y1 = df['default']  # convert y to binary!!\n",
    "X1 = df[['balance','income']]     \n",
    "X = numpy.asarray(X1)\n",
    "y = numpy.zeros(len(y1))\n",
    "\n",
    "for i in range(0,len(y1)):\n",
    "    if y1.iloc[i]==\"Yes\":\n",
    "        y[i]=0\n",
    "    else:\n",
    "        y[i]=1\n",
    "        \n",
    "\n",
    "        \n",
    "        \n",
    "def generate_auc(X,y,clf_class,**kwargs):\n",
    "    # Construct a kfolds object\n",
    "    random_state = numpy.random.RandomState(0)\n",
    "    # Construct training and testing set.\n",
    "    X, y = shuffle(X, y, random_state=random_state)\n",
    "    n_samples, n_features = X.shape\n",
    "    half = int(n_samples/1.2)\n",
    "    X_train, X_test = X[:half], X[half:]\n",
    "    y_train, y_test = y[:half], y[half:]\n",
    "    \n",
    "    # Choose SVC classifier.\n",
    "    classifier = clf_class(**kwargs)\n",
    "    probas_ = classifier.fit(X_train, y_train).predict_proba(X_test)\n",
    "    \n",
    "    fpr, tpr, thresholds = roc_curve(y_test, probas_[:, 1])\n",
    "    roc_auc = auc(fpr, tpr)\n",
    "    return fpr, tpr, roc_auc, thresholds        \n",
    "    \n",
    "    \n",
    "# We Choose 80% for training, 20% for testing. \n",
    "\n",
    "# Method 1:\n",
    "size =len(X)\n",
    "y = numpy.asarray(y)\n",
    "\n",
    "\n",
    "# Method 2 (this is better since it randomizes as well):\n",
    "X_train, X_test, y_train, y_test = train_test_split(X, y, test_size=0.2, random_state=42)\n",
    "\n",
    "\n",
    "\n",
    "#choose optimal alpha\n",
    "\n",
    "\n",
    "alphas = numpy.logspace(-8, 0, 30)#\n",
    "train_errors=[]\n",
    "test_errors=[]\n",
    "coeffs=[]\n",
    "scores=[]\n",
    "for alpha in alphas:\n",
    "    clf = LogisticRegression(penalty='l1', C=alpha)  # c = 1.0 default\n",
    "    clf.fit(X_train,y_train)\n",
    "    train_errors.append(clf.score(X_train,y_train))\n",
    "    fpr, tpr, roc_auc, thresholds= generate_auc(X,y,LogisticRegression,C=alpha,penalty='l1')\n",
    "    scores.append(roc_auc)\n",
    "    coeffs.append(clf.coef_)\n",
    "plt.plot(alphas,scores)\n",
    "test_errors=scores\n",
    "alpha_optim=alphas[numpy.argmax(scores)]\n",
    "alpha_best = alpha_optim\n",
    "\n",
    "\n",
    "print('The optimal alpha is: %.5f' % alpha_best)\n",
    "\n",
    "\n",
    "\n"
   ]
  },
  {
   "cell_type": "markdown",
   "metadata": {},
   "source": [
    "### Part 4 Continued: Decision Boundary and ROC"
   ]
  },
  {
   "cell_type": "code",
   "execution_count": null,
   "metadata": {},
   "outputs": [],
   "source": [
    "# Part 4 Decision boundary and ROC\n",
    "\n",
    "clf = LogisticRegression(penalty='l1', C=alpha_best)  # c = 1.0 default\n",
    "clf.fit(X_train,y_train)\n",
    "coef = clf.coef_\n",
    "\n",
    "y1=df[['default']]\n",
    "default_color=[]\n",
    "for i in range(0,len(y1)):\n",
    "    \n",
    "    if y1.iloc[i,0]==\"Yes\":\n",
    "        default_color.append(\"red\")\n",
    "    else:\n",
    "        default_color.append(\"blue\")\n",
    "ex1 = numpy.linspace(0, 3000, size)\n",
    "\n",
    "\n",
    "\n",
    "\n",
    "\n",
    "fpr, tpr, roc_auc, thresholds= generate_auc(X,y,LogisticRegression,C=alpha_best,penalty='l1')\n",
    "print('ROC AUC: %.4f' % roc_auc)\n",
    "\n",
    "\n",
    "#Decision boundary\n",
    "\n",
    "ex2= (clf.intercept_ + clf.coef_[0,0]*ex1)/ -clf.coef_[0,1]  #+ regr.intercept_) \n",
    "plt.figure(figsize=(10,7))       \n",
    "plt.scatter(df.balance,df.income, c=default_color,label = 'Default = No')\n",
    "plt.plot(ex1,ex2,'g', label = 'Decision Boundary')\n",
    "plt.title(\"Balance Vs. Income as a function of Default status\")\n",
    "plt.xlabel(\"balance\")\n",
    "plt.ylabel(\"income\")\n",
    "plt.xlim(0,3000)\n",
    "plt.ylim(0, 75000)\n",
    "plt.legend()\n",
    "\n",
    "plt.show()"
   ]
  },
  {
   "cell_type": "markdown",
   "metadata": {},
   "source": [
    "### Part 5"
   ]
  },
  {
   "cell_type": "code",
   "execution_count": null,
   "metadata": {},
   "outputs": [],
   "source": [
    "# 5) now 3 variables\n",
    "y1=df[['default']]\n",
    "z1 = df['student']\n",
    "\n",
    "\n",
    "y = numpy.zeros(len(y1))\n",
    "\n",
    "for i in range(0,len(y1)):\n",
    "    if y1.iloc[i,0]==\"Yes\":\n",
    "        y[i]=0\n",
    "    if y1.iloc[i,0]==\"No\":\n",
    "        y[i]=1\n",
    "        \n",
    "df_updated = pd.concat([df_student,df[['balance','income']] ],axis=1)   #now 3 variables\n",
    "   \n",
    "# We Choose 80% for training, 20% for testing. This should really be done randomly.\n",
    "X = df_updated\n",
    "# Method 1:\n",
    "size =len(X)\n",
    "y2 = numpy.asarray(y)\n",
    "\n",
    "\n",
    "# Method 2 (this is better since it randomizes as well):\n",
    "X_train, X_test, y_train, y_test = train_test_split(X, y2, test_size=0.2, random_state=42)\n",
    "\n",
    "\n",
    "\n",
    "#choose optimal alpha\n",
    "\n",
    "\n",
    "alphas = numpy.logspace(-7, 1, 30)#\n",
    "train_errors=[]\n",
    "test_errors=[]\n",
    "coeffs=[]\n",
    "scores=[]\n",
    "for alpha in alphas:\n",
    "    clf = LogisticRegression(penalty='l1', C=alpha)  # c = 1.0 default\n",
    "    clf.fit(X_train,y_train)\n",
    "    train_errors.append(clf.score(X_train,y_train))\n",
    "    fpr, tpr, roc_auc, thresholds= generate_auc(X,y2,LogisticRegression,C=alpha,penalty='l1')\n",
    "    scores.append(roc_auc)\n",
    "    coeffs.append(clf.coef_)\n",
    "plt.plot(alphas,scores)\n",
    "test_errors=scores\n",
    "alpha_optim_final=alphas[numpy.argmax(scores)]\n",
    "alpha_best = alpha_optim_final\n",
    "\n",
    "print('The optimal alpha is: %.5f' % alpha_best)\n",
    "\n",
    "clf = LogisticRegression(penalty='l1', C=alpha_best)  # c = 1.0 default\n",
    "clf.fit(X_train,y_train)\n",
    "coef=clf.coef_\n",
    "\n",
    "fpr, tpr, roc_auc, thresholds= generate_auc(X,y2,LogisticRegression,C=alpha_best,penalty='l1')\n",
    "print('ROC AUC: %.5f' % roc_auc)\n",
    "\n",
    "\n"
   ]
  },
  {
   "cell_type": "markdown",
   "metadata": {},
   "source": [
    "## Part 5 Continued: Optimize with Ridge"
   ]
  },
  {
   "cell_type": "code",
   "execution_count": null,
   "metadata": {},
   "outputs": [],
   "source": [
    "##### now with Ridge regression\n",
    "\n",
    "\n",
    "alphas = numpy.logspace(-4, -1, 50)#\n",
    "\n",
    "train_errors=[]\n",
    "test_errors=[]\n",
    "coeffs=[]\n",
    "scores=[]\n",
    "for alpha in alphas:\n",
    "    clf = LogisticRegression(penalty='l2', C=alpha)  # c = 1.0 default ...now with RIDGE\n",
    "    clf.fit(X_train,y_train)\n",
    "    train_errors.append(clf.score(X_train,y_train))\n",
    "    fpr, tpr, roc_auc, thresholds= generate_auc(X,y2,LogisticRegression,C=alpha,penalty='l2')\n",
    "    scores.append(roc_auc)\n",
    "    coeffs.append(clf.coef_)\n",
    "plt.plot(alphas,scores)\n",
    "test_errors=scores\n",
    "alpha_optim=alphas[numpy.argmax(scores)]\n",
    "alpha_best1 = alpha_optim\n",
    "\n",
    "\n",
    "\n",
    "\n",
    "print('The optimal alpha is: %.7f' % alpha_best1)\n",
    "\n",
    "\n",
    "clf = LogisticRegression(penalty='l2', C=alpha_best1)  # c = 1.0 default\n",
    "clf.fit(X_train,y_train)\n",
    "coef=clf.coef_\n",
    "\n",
    "coef = numpy.zeros(4)\n",
    "\n",
    "for i in range(0,len(coef)):\n",
    "    coef[i]=clf.coef_[0,i]\n",
    "    \n",
    "        \n",
    "\n",
    "fpr, tpr, roc_auc, thresholds= generate_auc(X,y2,LogisticRegression,C=alpha_best1,penalty='l2')\n",
    "print('ROC AUC: %.7f' % roc_auc)\n",
    "\n"
   ]
  },
  {
   "cell_type": "markdown",
   "metadata": {},
   "source": [
    "#### A plot of the coefficients:"
   ]
  },
  {
   "cell_type": "code",
   "execution_count": null,
   "metadata": {},
   "outputs": [],
   "source": [
    "xx=numpy.linspace(0,3,4)\n",
    "coef1=sorted(coef)\n",
    "plt.figure(figsize=(10,10))\n",
    "plt.bar(xx, coef1, align='center')"
   ]
  },
  {
   "cell_type": "markdown",
   "metadata": {},
   "source": [
    "With the new variable added the Lasso ROC AUC improves.  The value increases from .9426 to .94383.  However Ridge regression lowers the ROC AUC to about .6"
   ]
  },
  {
   "cell_type": "markdown",
   "metadata": {},
   "source": [
    "### PART 6"
   ]
  },
  {
   "cell_type": "code",
   "execution_count": null,
   "metadata": {},
   "outputs": [],
   "source": [
    "from sklearn.cross_validation import KFold\n",
    "def run_cv_coeffs(X,y,clf_class,**kwargs):\n",
    "    # Construct a kfolds object\n",
    "    kf = KFold(len(y),n_folds=5,shuffle=True)\n",
    "    y_pred = y.copy()\n",
    "    scores=[]\n",
    "    # Iterate through folds\n",
    "    for train_index, test_index in kf:\n",
    "        X_train, X_test = X[train_index], X[test_index]\n",
    "        y_train = y[train_index]\n",
    "        # Initialize a classifier with key word arguments\n",
    "        clf = clf_class(**kwargs)\n",
    "        clf.fit(X_train,y_train)\n",
    "        fpr, tpr, roc_auc, thresholds= generate_auc(X_train,y_train,LogisticRegression,C=alpha_best1,penalty='l2')\n",
    "        y_pred[test_index] = clf.predict(X_test)\n",
    "        scores.append(roc_auc)\n",
    "    return scores\n",
    "\n",
    "\n",
    "from sklearn import preprocessing\n",
    "scaler = preprocessing.StandardScaler()\n",
    "X2 = X.as_matrix().astype(numpy.float)\n",
    "X2 = scaler.fit_transform(X)\n",
    "\n",
    "scores=run_cv_coeffs(X2,y2,Ridge,alpha=alpha_best1)\n",
    "\n",
    "print (scores)\n",
    "plt.ylim([-1,1])\n",
    "plt.xlabel('lambda')\n",
    "plt.ylabel('R^2')\n",
    "plt.title('Performance on 5 folds with lambda=' + str(alpha_best1))\n",
    "plt.bar(range(1,6),scores)\n",
    "plt.show()\n"
   ]
  },
  {
   "cell_type": "code",
   "execution_count": null,
   "metadata": {},
   "outputs": [],
   "source": [
    "def run_cv_coeffs(X,y,clf_class,**kwargs):\n",
    "    # Construct a kfolds object\n",
    "    kf = KFold(len(y),n_folds=3,shuffle=True)\n",
    "    y_pred = y.copy()\n",
    "    scores=[]\n",
    "    # Iterate through folds\n",
    "    for train_index, test_index in kf:\n",
    "        X_train, X_test = X[train_index], X[test_index]\n",
    "        y_train = y[train_index]\n",
    "        # Initialize a classifier with key word arguments\n",
    "        clf = clf_class(**kwargs)\n",
    "        clf.fit(X_train,y_train)\n",
    "        fpr, tpr, roc_auc, thresholds= generate_auc(X_train,y_train,LogisticRegression,C=alpha_best1,penalty='l2')\n",
    "        y_pred[test_index] = clf.predict(X_test)\n",
    "        scores.append(roc_auc)\n",
    "    return scores\n",
    "\n",
    "\n",
    "from sklearn import preprocessing\n",
    "scaler = preprocessing.StandardScaler()\n",
    "X2 = X.as_matrix().astype(numpy.float)\n",
    "X2 = scaler.fit_transform(X)\n",
    "\n",
    "scores=run_cv_coeffs(X2,y2,Ridge,alpha=alpha_best1)\n",
    "\n",
    "print (scores)\n",
    "plt.ylim([-1,1])\n",
    "plt.xlabel('lambda')\n",
    "plt.ylabel('R^2')\n",
    "plt.title('Performance on 3 folds with lambda=' + str(alpha_best1))\n",
    "plt.bar(range(1,4),scores)\n",
    "plt.show()\n"
   ]
  },
  {
   "cell_type": "code",
   "execution_count": null,
   "metadata": {},
   "outputs": [],
   "source": [
    "def run_cv_coeffs(X,y,clf_class,**kwargs):\n",
    "    # Construct a kfolds object\n",
    "    kf = KFold(len(y),n_folds=7,shuffle=True)\n",
    "    y_pred = y.copy()\n",
    "    scores=[]\n",
    "    # Iterate through folds\n",
    "    for train_index, test_index in kf:\n",
    "        X_train, X_test = X[train_index], X[test_index]\n",
    "        y_train = y[train_index]\n",
    "        # Initialize a classifier with key word arguments\n",
    "        clf = clf_class(**kwargs)\n",
    "        clf.fit(X_train,y_train)\n",
    "        fpr, tpr, roc_auc, thresholds= generate_auc(X_train,y_train,LogisticRegression,C=alpha_best1,penalty='l2')\n",
    "        y_pred[test_index] = clf.predict(X_test)\n",
    "        scores.append(roc_auc)\n",
    "    return scores\n",
    "\n",
    "\n",
    "from sklearn import preprocessing\n",
    "scaler = preprocessing.StandardScaler()\n",
    "X2 = X.as_matrix().astype(numpy.float)\n",
    "X2 = scaler.fit_transform(X)\n",
    "\n",
    "scores=run_cv_coeffs(X2,y2,Ridge,alpha=alpha_best1)\n",
    "\n",
    "print (scores)\n",
    "plt.ylim([-1,1])\n",
    "plt.xlabel('lambda')\n",
    "plt.ylabel('R^2')\n",
    "plt.title('Performance on 7 folds with lambda=' + str(alpha_best1))\n",
    "plt.bar(range(1,8),scores)\n",
    "plt.show()\n"
   ]
  },
  {
   "cell_type": "markdown",
   "metadata": {},
   "source": [
    "### Part 7: Decision Tree Classifier"
   ]
  },
  {
   "cell_type": "code",
   "execution_count": null,
   "metadata": {},
   "outputs": [],
   "source": [
    "regr_5= DecisionTreeRegressor(max_depth=5)\n",
    "regr_5.fit(X2, y2)\n",
    "X_test1 = numpy.linspace(0.0, 4.0, len(X2))[:, numpy.newaxis]\n",
    "a=numpy.concatenate((X_test1, X_test1,X_test1,X_test1), axis=1)\n",
    "y_0 = regr_5.predict(a)\n",
    "fpr, tpr, roc_auc, thresholds= generate_auc(X2,y2,DecisionTreeClassifier)\n",
    "score1=roc_auc\n",
    "print('R^2 Score is: %.7f' % score1)\n",
    "plt.scatter(X2[:,0], y2, c=\"darkorange\",label=\"data\")\n",
    "plt.scatter(X2[:,1], y2, c=\"darkorange\")\n",
    "plt.scatter(X2[:,2], y2, c=\"darkorange\")\n",
    "plt.scatter(X2[:,3], y2, c=\"darkorange\")\n",
    "plt.plot(a[:,0], y_0, color=\"red\", label=\"max_depth=5\", linewidth=2)\n",
    "plt.plot(a[:,1], y_0, color=\"red\", linewidth=2)\n",
    "plt.plot(a[:,2], y_0, color=\"red\", linewidth=2)\n",
    "plt.plot(a[:,3], y_0, color=\"red\",linewidth=2)\n",
    "plt.xlabel(\"data\")\n",
    "plt.ylabel(\"target\")\n",
    "plt.title(\"Decision Tree Regression - Depth=5\")\n",
    "plt.legend()\n",
    "plt.show()\n"
   ]
  },
  {
   "cell_type": "markdown",
   "metadata": {},
   "source": [
    "The score for the decision tree classifier is low of .65 so the logistic regression classifier has better performance."
   ]
  },
  {
   "cell_type": "code",
   "execution_count": null,
   "metadata": {},
   "outputs": [],
   "source": [
    "def visualize_tree(tree, feature_names):\n",
    "    \"\"\"Create tree png using graphviz.\n",
    "\n",
    "    Args\n",
    "    ----\n",
    "    tree -- scikit-learn DecsisionTree.\n",
    "    feature_names -- list of feature names.\n",
    "    \"\"\"\n",
    "    with open(\"dt.dot\", 'w') as f:\n",
    "        export_graphviz(tree, out_file=f)\n",
    "\n",
    "    command = [\"dot\", \"-Tpng\", \"dt.dot\", \"-o\", \"dt.png\"]\n",
    "    try:\n",
    "        subprocess.check_call(command)\n",
    "    except:\n",
    "        exit(\"Could not run dot, ie graphviz, to \"\n",
    "             \"produce visualization\")\n",
    "        \n",
    "dt=DecisionTreeRegressor(max_depth=5)\n",
    "visualize_tree(regr_5, feature_names=['x'])"
   ]
  },
  {
   "cell_type": "code",
   "execution_count": null,
   "metadata": {},
   "outputs": [],
   "source": [
    "from IPython import display\n",
    "from IPython.display import Image  \n",
    "dot_data=export_graphviz(regr_5, out_file=None)\n",
    "graph = pydotplus.graph_from_dot_data(dot_data)  \n",
    "#display.Image(graph.create_png()) \n"
   ]
  },
  {
   "cell_type": "code",
   "execution_count": null,
   "metadata": {},
   "outputs": [],
   "source": [
    "X_train, X_test, y_train, y_test = train_test_split(X2, y2, test_size=0.2, random_state=42)\n",
    "\n",
    "\n",
    "scores=[]\n",
    "depths = range(1,15)\n",
    "for n in depths:\n",
    "    regr = DecisionTreeRegressor(max_depth=n)\n",
    "    # Train the model using the training sets\n",
    "    regr.fit(X_train, y_train)\n",
    "    train_errors.append(regr.score(X_train,y_train))\n",
    "    fpr, tpr, roc_auc, thresholds= generate_auc(X_train,y_train,DecisionTreeClassifier)\n",
    "    scores.append(roc_auc)\n",
    "plt.ylabel('R^2')\n",
    "plt.xlabel('Depth')\n",
    "plt.plot(depths,scores)\n",
    "test_errors=scores\n",
    "n_opt=depths[numpy.argmax(scores)]\n",
    "\n",
    "print (n_opt)"
   ]
  },
  {
   "cell_type": "code",
   "execution_count": null,
   "metadata": {},
   "outputs": [],
   "source": [
    "regr_opt = DecisionTreeRegressor(max_depth=n_opt)\n",
    "regr_opt.fit(X2, y2)\n",
    "X_test1 = numpy.linspace(0.0, 4.0, len(X2))[:, numpy.newaxis]\n",
    "a=numpy.concatenate((X_test1, X_test1,X_test1,X_test1), axis=1)\n",
    "y_0 = regr_opt.predict(a)\n",
    "\n",
    "score1=regr_opt.score(X2, y2)\n",
    "\n",
    "\n",
    "\n",
    "print('R^2 Score is: %.7f' % score1)\n",
    "print('Max depth is: %.1f' % n_opt)\n",
    "plt.scatter(X2[:,0], y2, c=\"darkorange\",label=\"data\")\n",
    "plt.scatter(X2[:,1], y2, c=\"darkorange\")\n",
    "plt.scatter(X2[:,2], y2, c=\"darkorange\")\n",
    "plt.scatter(X2[:,3], y2, c=\"darkorange\")\n",
    "plt.plot(a[:,0], y_0, color=\"red\", label=\"max_depth\", linewidth=2)\n",
    "plt.plot(a[:,1], y_0, color=\"red\", linewidth=2)\n",
    "plt.plot(a[:,2], y_0, color=\"red\", linewidth=2)\n",
    "plt.plot(a[:,3], y_0, color=\"red\",linewidth=2)\n",
    "plt.xlabel(\"data\")\n",
    "plt.xlabel(\"data\")\n",
    "plt.ylabel(\"target\")\n",
    "plt.title(\"Decision Tree Regression - Optimal Model\")\n",
    "plt.legend()\n",
    "plt.show()"
   ]
  },
  {
   "cell_type": "markdown",
   "metadata": {},
   "source": [
    "# Part II: Recommendation Systems. "
   ]
  },
  {
   "cell_type": "markdown",
   "metadata": {},
   "source": [
    "In this problem we will use the notebook https://github.com/Columbia-Intro-Data-Science/APMAE4990-/blob/master/notebooks/matrix_factorization_recommender.ipynb  as\n",
    "a starting point."
   ]
  },
  {
   "cell_type": "markdown",
   "metadata": {},
   "source": [
    "1) Split the ratings matrix `R_df` into training and testing sets. Remember we need to do this for rows and columns now. \n",
    "\n",
    "2) Evaluate the performance of the matrix factorization model for $K=50$. In particular, measure the:\n",
    " - Precision.\n",
    " - Recall. \n",
    "\n",
    "You can round up or down to the nearest integer for the ratings. \n",
    "\n",
    "3) Construct an item/item and user/user model, and evaluate the performance as in 2). How does it compare?\n",
    "\n",
    "4) Check how your answer to 3) changes (if at all) as you try different values of K for K=10, 20, 100. "
   ]
  }
 ],
 "metadata": {
  "anaconda-cloud": {},
  "kernelspec": {
   "display_name": "Python 3",
   "language": "python",
   "name": "python3"
  },
  "language_info": {
   "codemirror_mode": {
    "name": "ipython",
    "version": 3
   },
   "file_extension": ".py",
   "mimetype": "text/x-python",
   "name": "python",
   "nbconvert_exporter": "python",
   "pygments_lexer": "ipython3",
   "version": "3.6.4"
  }
 },
 "nbformat": 4,
 "nbformat_minor": 1
}
